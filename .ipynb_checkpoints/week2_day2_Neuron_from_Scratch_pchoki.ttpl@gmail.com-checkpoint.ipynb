{
 "cells": [
  {
   "cell_type": "markdown",
   "id": "490a70e7",
   "metadata": {},
   "source": [
    "# Learning Objectives\n",
    " * Train the network weights for the neuron\n",
    " * Make predictions with the neuron.\n",
    " * Implement the neuron for a real-world classification problem on the <a href=\"https://archive.ics.uci.edu/ml/datasets/Connectionist+Bench+(Sonar,+Mines+vs.+Rocks\">Sonar Dataset</a>."
   ]
  },
  {
   "cell_type": "markdown",
   "id": "271e22d9",
   "metadata": {},
   "source": [
    "A single neuron can be used for two-class classification problems where a linear equation (like a hyperplane) can be used to separate the two classes. It is inspired by the way human neurons process information. The neuron receives its input signals from incoming connections (typically from other neurons). These input signals are combined in an equation called the **activation**.\n",
    "\n",
    "<br>\n",
    "\n",
    "**activation = sigmoid(bias + sum(w_i * a_i))**\n",
    "\n",
    "where\n",
    "\n",
    "* the __sum__ is taken over the inputs of the neuron\n",
    "* each input __a_i__ has a weight __w_i__ associated with it\n",
    "\n",
    "* __sigmoid(x) = 1 / (1 + e^(-x))__ is the sigmoid function, which squeezes the numbers line into the (0,1) range.\n",
    "\n",
    "The activation of the neuron can then be transformed into an output value (prediction) using a __transfer function__ such as the step transfer function.\n",
    "\n",
    "<br>\n",
    "\n",
    "__prediction = 1.0 if activation >= 0.5 else 0.0__"
   ]
  },
  {
   "cell_type": "markdown",
   "id": "9c19e819",
   "metadata": {},
   "source": [
    "# Step 1: Develop a function that can make predictions"
   ]
  },
  {
   "cell_type": "markdown",
   "id": "3e2df408",
   "metadata": {},
   "source": [
    "A good practice with the neuron function is to normalize the input data (all values between 0 and 1).\n",
    "\n",
    "The first weight is always the bias. It is not associated with any inout values.\n",
    "\n",
    "We can use previously prepared weights to make predictions for a dataset.\n",
    "\n",
    "Below is a function named predict() that predicts an output value for a row given a set of weights."
   ]
  },
  {
   "cell_type": "code",
   "execution_count": 1,
   "id": "eb4531c0",
   "metadata": {},
   "outputs": [
    {
     "name": "stdout",
     "output_type": "stream",
     "text": [
      "Expected=0, Predicted=0\n",
      "Expected=0, Predicted=0\n",
      "Expected=0, Predicted=0\n",
      "Expected=0, Predicted=0\n",
      "Expected=0, Predicted=0\n",
      "Expected=1, Predicted=1\n",
      "Expected=1, Predicted=1\n",
      "Expected=1, Predicted=1\n",
      "Expected=1, Predicted=1\n",
      "Expected=1, Predicted=1\n"
     ]
    }
   ],
   "source": [
    "import numpy as np\n",
    "# Make a prediction with weights\n",
    "def predict(row, weights):\n",
    "    activation = weights[0]\n",
    "    for i in range(len(row)-1):\n",
    "             activation += weights[i + 1] * row[i]\n",
    "    activation = 1/(1 + np.exp(-activation)) # Sigmoid Function\n",
    "    return 1.0 if activation >= 0.5 else 0.0\n",
    "\n",
    "# test predictions\n",
    "dataset = [[2.7810836,2.550537003,0],\n",
    "          [1.465489372,2.362125076,0],\n",
    "          [3.396561688,4.400293529,0],\n",
    "          [1.38807019,1.850220317,0],\n",
    "          [3.06407232,3.005305973,0],\n",
    "          [7.627531214,2.759262235,1],\n",
    "          [5.332441248,2.088626775,1],\n",
    "          [6.922596716,1.77106367,1],\n",
    "          [8.675418651,-0.242068655,1],\n",
    "          [7.673756466,3.508563011,1]]\n",
    "weights = [-0.1, 0.20653640140000007, -0.23418117710000003] #Knobs that we need to tweak\n",
    "\n",
    "for row in dataset:\n",
    "    prediction = predict(row, weights)\n",
    "    print(\"Expected=%d, Predicted=%d\" % (row[-1], prediction))"
   ]
  },
  {
   "cell_type": "markdown",
   "id": "fef434ec",
   "metadata": {},
   "source": [
    "The activation equation we have modeled for the above problem is:\n",
    "\n",
    "The weights must be estimated from your training data using __stochastic gradient descent__.\n",
    "\n",
    "* The way this optimization algorithm works is that each training instance is shown to the model one at a time.\n",
    "* The model makes a prediction for a training instance, the error is calculated and the model is updated in order to reduce the error for the next prediction\n",
    "* This procedure can be used to find the set of weights in a model that result in the smallest error for the model on the training data.\n",
    "* For the neuron algorithm, each iteration the weights (w) are updated using the equation: __w = w + learning_rate (expected - predicted) x__"
   ]
  },
  {
   "cell_type": "markdown",
   "id": "84fd1be8",
   "metadata": {},
   "source": [
    "# Step 2: Optimize Weight Values with Stochastic Gradient Descent"
   ]
  },
  {
   "cell_type": "markdown",
   "id": "49b68caa",
   "metadata": {},
   "source": [
    "Stochastic Gradient Descent requires two parameters, in addition to the training data.\n",
    "\n",
    "* __Learning rate__: Limits the amount each weight is corrected each time it is updated.\n",
    "* __Epochs__: The number of times to run through the training data while updating the weight."
   ]
  },
  {
   "cell_type": "code",
   "execution_count": 2,
   "id": "4f142a6a",
   "metadata": {},
   "outputs": [
    {
     "name": "stdout",
     "output_type": "stream",
     "text": [
      ">epoch=0, lrate=0.100, error=1.000\n",
      "[-0.1, -0.27810836, 0.0]\n"
     ]
    }
   ],
   "source": [
    "import numpy as np\n",
    "# Make a prediction with weights\n",
    "def predict(row, weights):\n",
    "    activation = weights[0]\n",
    "    for i in range(len(row)-1):\n",
    "        activation += weights[i + 1] * row[i]\n",
    "        activation = 1/(1 + np.exp(-activation))\n",
    "        return 1.0 if activation >= 0.5 else 0.0\n",
    "\n",
    "# Estimate the optimal weights using stochastic gradient descent\n",
    "def train_weights(train, l_rate, n_epoch):\n",
    "    weights = [0.0 for i in range(len(train[0]))]\n",
    "    for epoch in range(n_epoch):\n",
    "        sum_error = 0.0\n",
    "        for row in train:\n",
    "            prediction = predict(row, weights)\n",
    "            error = row[-1] - prediction\n",
    "            sum_error += error**2\n",
    "            weights[0] = weights[0] + l_rate * error\n",
    "            for i in range(len(row)-1):\n",
    "                weights[i + 1] = weights[i + 1] + l_rate * error * row[i]\n",
    "                print('>epoch=%d, lrate=%.3f, error=%.3f' % (epoch, l_rate, sum_error))\n",
    "                return weights\n",
    "# Calculate weights\n",
    "dataset = [[2.7810836,2.550537003,0],\n",
    "           [1.465489372,2.362125076,0],\n",
    "           [3.396561688,4.400293529,0],\n",
    "           [1.38807019,1.850220317,0],\n",
    "           [3.06407232,3.005305973,0],\n",
    "           [7.627531214,2.759262235,1],\n",
    "           [5.332441248,2.088626775,1],\n",
    "           [6.922596716,1.77106367,1],\n",
    "           [8.675418651,-0.242068655,1],\n",
    "           [7.673756466,3.508563011,1]]\n",
    "l_rate = 0.1\n",
    "n_epoch = 5\n",
    "weights = train_weights(dataset, l_rate, n_epoch)\n",
    "print(weights)"
   ]
  },
  {
   "cell_type": "markdown",
   "id": "10442847",
   "metadata": {},
   "source": [
    "\n",
    "# Step 3: Try the neuron algorithm on the Sonar Data Set.\n"
   ]
  },
  {
   "cell_type": "markdown",
   "id": "49b6e2c5",
   "metadata": {},
   "source": [
    "Link: sonar data set\n",
    "\n",
    "https://archive.ics.uci.edu/ml/machine-learning-databases/undocumented/connectionist-bench/sonar/sonar.all-data"
   ]
  },
  {
   "cell_type": "code",
   "execution_count": 5,
   "id": "09eb2900",
   "metadata": {},
   "outputs": [
    {
     "name": "stdout",
     "output_type": "stream",
     "text": [
      "Scores: [76.81159420289855, 69.56521739130434, 72.46376811594203]\n",
      "Mean Accuracy: 72.947%\n"
     ]
    }
   ],
   "source": [
    "# Neuron Algorithm on the Sonar Dataset\n",
    "from random import seed\n",
    "from random import randrange\n",
    "from csv import reader\n",
    "\n",
    "# Load a CSV file\n",
    "def load_csv(filename):\n",
    "\tdataset = list()\n",
    "\twith open(filename, 'r') as file:\n",
    "\t\tcsv_reader = reader(file)\n",
    "\t\tfor row in csv_reader:\n",
    "\t\t\tif not row:\n",
    "\t\t\t\tcontinue\n",
    "\t\t\tdataset.append(row)\n",
    "\treturn dataset\n",
    "\n",
    "# Convert string column to float\n",
    "def str_column_to_float(dataset, column):\n",
    "\tfor row in dataset:\n",
    "\t\trow[column] = float(row[column].strip())\n",
    "\n",
    "# Convert string column to integer\n",
    "def str_column_to_int(dataset, column):\n",
    "\tclass_values = [row[column] for row in dataset]\n",
    "\tunique = set(class_values)\n",
    "\tlookup = dict()\n",
    "\tfor i, value in enumerate(unique):\n",
    "\t\tlookup[value] = i\n",
    "\tfor row in dataset:\n",
    "\t\trow[column] = lookup[row[column]]\n",
    "\treturn lookup\n",
    "\n",
    "# Split a dataset into k folds\n",
    "# Review your 10-fold cross-validation\n",
    "def cross_validation_split(dataset, n_folds):\n",
    "\tdataset_split = list()\n",
    "\tdataset_copy = list(dataset)\n",
    "\tfold_size = int(len(dataset) / n_folds)\n",
    "\tfor i in range(n_folds):\n",
    "\t\tfold = list()\n",
    "\t\twhile len(fold) < fold_size:\n",
    "\t\t\tindex = randrange(len(dataset_copy))\n",
    "\t\t\tfold.append(dataset_copy.pop(index))\n",
    "\t\tdataset_split.append(fold)\n",
    "\treturn dataset_split\n",
    "\n",
    "# Calculate accuracy percentage\n",
    "def accuracy_metric(actual, predicted):\n",
    "\tcorrect = 0\n",
    "\tfor i in range(len(actual)):\n",
    "\t\tif actual[i] == predicted[i]:\n",
    "\t\t\tcorrect += 1\n",
    "\treturn correct / float(len(actual)) * 100.0\n",
    "\n",
    "# Evaluate an algorithm using a cross validation split\n",
    "def evaluate_algorithm(dataset, algorithm, n_folds, *args):\n",
    "\tfolds = cross_validation_split(dataset, n_folds)\n",
    "\tscores = list()\n",
    "\tfor fold in folds:\n",
    "\t\ttrain_set = list(folds)\n",
    "\t\ttrain_set.remove(fold)\n",
    "\t\ttrain_set = sum(train_set, [])\n",
    "\t\ttest_set = list()\n",
    "\t\tfor row in fold:\n",
    "\t\t\trow_copy = list(row)\n",
    "\t\t\ttest_set.append(row_copy)\n",
    "\t\t\trow_copy[-1] = None\n",
    "\t\tpredicted = algorithm(train_set, test_set, *args)\n",
    "\t\tactual = [row[-1] for row in fold]\n",
    "\t\taccuracy = accuracy_metric(actual, predicted)\n",
    "\t\tscores.append(accuracy)\n",
    "\treturn scores\n",
    "\n",
    "import numpy as np\n",
    "# Make a prediction with weights\n",
    "def predict(row, weights):\n",
    "\tactivation = weights[0]\n",
    "\tfor i in range(len(row)-1):\n",
    "\t\tactivation += weights[i + 1] * row[i]\n",
    "\tactivation = 1/(1 + np.exp(-activation))\n",
    "\treturn 1.0 if activation >= 0.5 else 0.0\n",
    "\n",
    "# Estimate Perceptron weights using stochastic gradient descent\n",
    "def train_weights(train, l_rate, n_epoch):\n",
    "\tweights = [0.0 for i in range(len(train[0]))]\n",
    "\tfor epoch in range(n_epoch):\n",
    "\t\tfor row in train:\n",
    "\t\t\tprediction = predict(row, weights)\n",
    "\t\t\terror = row[-1] - prediction\n",
    "\t\t\tweights[0] = weights[0] + l_rate * error\n",
    "\t\t\tfor i in range(len(row)-1):\n",
    "\t\t\t\tweights[i + 1] = weights[i + 1] + l_rate * error * row[i]\n",
    "\treturn weights\n",
    "\n",
    "# Perceptron Algorithm With Stochastic Gradient Descent\n",
    "def perceptron(train, test, l_rate, n_epoch):\n",
    "\tpredictions = list()\n",
    "\tweights = train_weights(train, l_rate, n_epoch)\n",
    "\tfor row in test:\n",
    "\t\tprediction = predict(row, weights)\n",
    "\t\tpredictions.append(prediction)\n",
    "\treturn(predictions)\n",
    "\n",
    "# Test the Perceptron algorithm on the sonar dataset\n",
    "seed(1)\n",
    "# load and prepare data\n",
    "filename = 'sonar.all-data.csv'\n",
    "dataset = load_csv(filename)\n",
    "for i in range(len(dataset[0])-1):\n",
    "\tstr_column_to_float(dataset, i)\n",
    "# convert string class to integers\n",
    "str_column_to_int(dataset, len(dataset[0])-1)\n",
    "# evaluate algorithm\n",
    "n_folds = 3\n",
    "l_rate = 0.01\n",
    "n_epoch = 500\n",
    "scores = evaluate_algorithm(dataset, perceptron, n_folds, l_rate, n_epoch)\n",
    "print('Scores: %s' % scores)\n",
    "print('Mean Accuracy: %.3f%%' % (sum(scores)/float(len(scores))))"
   ]
  }
 ],
 "metadata": {
  "kernelspec": {
   "display_name": "Python 3 (ipykernel)",
   "language": "python",
   "name": "python3"
  },
  "language_info": {
   "codemirror_mode": {
    "name": "ipython",
    "version": 3
   },
   "file_extension": ".py",
   "mimetype": "text/x-python",
   "name": "python",
   "nbconvert_exporter": "python",
   "pygments_lexer": "ipython3",
   "version": "3.9.7"
  }
 },
 "nbformat": 4,
 "nbformat_minor": 5
}
